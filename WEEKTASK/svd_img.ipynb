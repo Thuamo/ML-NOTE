{
 "cells": [
  {
   "cell_type": "markdown",
   "metadata": {},
   "source": [
    "## 实验介绍"
   ]
  },
  {
   "cell_type": "markdown",
   "metadata": {},
   "source": [
    "### 1.实验内容"
   ]
  },
  {
   "cell_type": "markdown",
   "metadata": {},
   "source": [
    "本实验介绍基于SVD算法实现图像压缩。"
   ]
  },
  {
   "cell_type": "markdown",
   "metadata": {},
   "source": [
    "### 2.实验目标"
   ]
  },
  {
   "cell_type": "markdown",
   "metadata": {},
   "source": [
    "通过本实验掌握SVD算法。"
   ]
  },
  {
   "cell_type": "markdown",
   "metadata": {},
   "source": [
    "### 3.实验知识点"
   ]
  },
  {
   "cell_type": "markdown",
   "metadata": {},
   "source": [
    "* SVD算法"
   ]
  },
  {
   "cell_type": "markdown",
   "metadata": {},
   "source": [
    "### 4.实验环境"
   ]
  },
  {
   "cell_type": "markdown",
   "metadata": {},
   "source": [
    "* python 3.6.5"
   ]
  },
  {
   "cell_type": "markdown",
   "metadata": {},
   "source": [
    "### 5.预备知识"
   ]
  },
  {
   "cell_type": "markdown",
   "metadata": {},
   "source": [
    "* Python编程基础"
   ]
  },
  {
   "cell_type": "markdown",
   "metadata": {},
   "source": [
    "## 准备工作\n",
    "点击屏幕右上方的下载实验数据模块，选择下载svd_img.tgz到指定目录下，然后再依次选择点击上方的File->Open->Upload,上传刚才下载的数据集压缩包，再使用如下命令解压："
   ]
  },
  {
   "cell_type": "code",
   "execution_count": 1,
   "metadata": {},
   "outputs": [
    {
     "name": "stderr",
     "output_type": "stream",
     "text": [
      "x svd_img/\n",
      "x svd_img/0_5.txt\n"
     ]
    }
   ],
   "source": [
    "!tar -zxvf svd_img.tgz"
   ]
  },
  {
   "cell_type": "markdown",
   "metadata": {},
   "source": [
    "## 【练习】基于SVD的图像压缩 \n",
    "本节我们将了解如何将SVD应用于图像压缩。在文件库中，0_5.txt文件中包含了一张手写的数字图像，原始图像大小是32*32=1024像素，也就是我们目前需要使用1024个存储空间。我们来使用SVD来对图像进行降维，看是否能够节省空间呢？添加如下代码："
   ]
  },
  {
   "cell_type": "code",
   "execution_count": 2,
   "metadata": {},
   "outputs": [],
   "source": [
    "from numpy import *\n",
    "from numpy import linalg as la\n",
    "\"\"\"\n",
    "函数说明：打印矩阵\n",
    "parameters:\n",
    "    inMat -数据矩阵\n",
    "    thresh -阈值界定深色和浅色\n",
    "return:\n",
    "    None\n",
    "\"\"\"\n",
    "def printMat(inMat, thresh=0.8):\n",
    "    for i in range(32):                          #图片的像素为32*32\n",
    "        for j in range(32):\n",
    "            if float(inMat[i,j]) > thresh:  #如果大于阈值，则输出1\n",
    "                print(1,end='')            #python3,输出不换行\n",
    "            else:\n",
    "                print(0,end='')\n",
    "        print('')\n",
    "\"\"\"\n",
    "函数说明：图像压缩\n",
    "parameters:\n",
    "    numSV -给定的奇异值数目\n",
    "    thresh -阈值\n",
    "return:\n",
    "    None\n",
    "\"\"\"\n",
    "def imgCompress(numSV=3,thresh=0.8):\n",
    "    myl = []\n",
    "    for line in open('svd_img/0_5.txt').readlines():\n",
    "        newRow = []\n",
    "        for i in range(32):\n",
    "            newRow.append(int(line[i]))         #从文件中以数值方式读入字符\n",
    "        myl.append(newRow)\n",
    "    myMat = mat(myl)\n",
    "    print(\"**********初始矩阵**********\")\n",
    "    printMat(myMat, thresh)\n",
    "    \n",
    "    ### Start Code Here ###\n",
    "    #实现这个函数\n",
    "    #调用la类中的svd函数\n",
    "    \n",
    "    #构建对角线上为sigma的numSV*numSV的矩阵\n",
    "    \n",
    "    #重构矩阵\n",
    "\n",
    "    ### End Code Here ###\n",
    "\n",
    "    print(\"**********使用%d个奇异值的重构矩阵**********\" %numSV)\n",
    "    printMat(reconMat,thresh)"
   ]
  },
  {
   "cell_type": "markdown",
   "metadata": {},
   "source": [
    "其中，图像压缩函数imgCompress，它允许基于任意给定的奇异值数目来重构图像。在重构原始数据时，通过将奇异值填充到新建的零矩阵的对角线上，并截断U和VT矩阵，来得到重构矩阵。"
   ]
  },
  {
   "cell_type": "markdown",
   "metadata": {},
   "source": [
    "## 【实验】图像压缩结果 \n",
    "修改我们的main函数为："
   ]
  },
  {
   "cell_type": "code",
   "execution_count": 3,
   "metadata": {},
   "outputs": [
    {
     "name": "stdout",
     "output_type": "stream",
     "text": [
      "**********初始矩阵**********\n",
      "00000000000000110000000000000000\n",
      "00000000000011111100000000000000\n",
      "00000000000111111110000000000000\n",
      "00000000001111111111000000000000\n",
      "00000000111111111111100000000000\n",
      "00000001111111111111110000000000\n",
      "00000000111111111111111000000000\n",
      "00000000111111100001111100000000\n",
      "00000001111111000001111100000000\n",
      "00000011111100000000111100000000\n",
      "00000011111100000000111110000000\n",
      "00000011111100000000011110000000\n",
      "00000011111100000000011110000000\n",
      "00000001111110000000001111000000\n",
      "00000011111110000000001111000000\n",
      "00000011111100000000001111000000\n",
      "00000001111100000000001111000000\n",
      "00000011111100000000001111000000\n",
      "00000001111100000000001111000000\n",
      "00000001111100000000011111000000\n",
      "00000000111110000000001111100000\n",
      "00000000111110000000001111100000\n",
      "00000000111110000000001111100000\n",
      "00000000111110000000011111000000\n",
      "00000000111110000000111111000000\n",
      "00000000111111000001111110000000\n",
      "00000000011111111111111110000000\n",
      "00000000001111111111111110000000\n",
      "00000000001111111111111110000000\n",
      "00000000000111111111111000000000\n",
      "00000000000011111111110000000000\n",
      "00000000000000111111000000000000\n",
      "**********使用2个奇异值的重构矩阵**********\n"
     ]
    },
    {
     "ename": "NameError",
     "evalue": "name 'reconMat' is not defined",
     "output_type": "error",
     "traceback": [
      "\u001b[1;31m---------------------------------------------------------------------------\u001b[0m",
      "\u001b[1;31mNameError\u001b[0m                                 Traceback (most recent call last)",
      "\u001b[1;32m<ipython-input-3-43c7a673e6ec>\u001b[0m in \u001b[0;36m<module>\u001b[1;34m()\u001b[0m\n\u001b[0;32m      1\u001b[0m \u001b[1;32mif\u001b[0m \u001b[0m__name__\u001b[0m \u001b[1;33m==\u001b[0m \u001b[1;34m'__main__'\u001b[0m\u001b[1;33m:\u001b[0m\u001b[1;33m\u001b[0m\u001b[0m\n\u001b[0;32m      2\u001b[0m     \u001b[1;31m#测试图像压缩\u001b[0m\u001b[1;33m\u001b[0m\u001b[1;33m\u001b[0m\u001b[0m\n\u001b[1;32m----> 3\u001b[1;33m     \u001b[0mimgCompress\u001b[0m\u001b[1;33m(\u001b[0m\u001b[1;36m2\u001b[0m\u001b[1;33m)\u001b[0m\u001b[1;33m\u001b[0m\u001b[0m\n\u001b[0m",
      "\u001b[1;32m<ipython-input-2-059f37e0fb35>\u001b[0m in \u001b[0;36mimgCompress\u001b[1;34m(numSV, thresh)\u001b[0m\n\u001b[0;32m     47\u001b[0m \u001b[1;33m\u001b[0m\u001b[0m\n\u001b[0;32m     48\u001b[0m     \u001b[0mprint\u001b[0m\u001b[1;33m(\u001b[0m\u001b[1;34m\"**********使用%d个奇异值的重构矩阵**********\"\u001b[0m \u001b[1;33m%\u001b[0m\u001b[0mnumSV\u001b[0m\u001b[1;33m)\u001b[0m\u001b[1;33m\u001b[0m\u001b[0m\n\u001b[1;32m---> 49\u001b[1;33m     \u001b[0mprintMat\u001b[0m\u001b[1;33m(\u001b[0m\u001b[0mreconMat\u001b[0m\u001b[1;33m,\u001b[0m\u001b[0mthresh\u001b[0m\u001b[1;33m)\u001b[0m\u001b[1;33m\u001b[0m\u001b[0m\n\u001b[0m",
      "\u001b[1;31mNameError\u001b[0m: name 'reconMat' is not defined"
     ]
    }
   ],
   "source": [
    "if __name__ == '__main__':\n",
    "    #测试图像压缩\n",
    "    imgCompress(2)"
   ]
  },
  {
   "cell_type": "markdown",
   "metadata": {},
   "source": [
    "我们使用两个奇异值来对图像进行重构。\n",
    "\n",
    "运行后，可以看到，我们仅使用2个奇异值就可以相当精确的对图像实现重构。并且U矩阵和VT矩阵的大小都是32*2，有两个奇异值，总数字的数目就是：32*2*2+2=130。和原数目1024相比，足足获得了10倍的压缩比。"
   ]
  },
  {
   "cell_type": "markdown",
   "metadata": {},
   "source": [
    "## 实验总结"
   ]
  },
  {
   "cell_type": "markdown",
   "metadata": {},
   "source": [
    "本节我们介绍了SVD应用于图像压缩。您应该能达到以下两个目标：\n",
    "\n",
    "1. 掌握SVD算法。\n",
    "\n",
    "2. 学会实现相应算法。"
   ]
  },
  {
   "cell_type": "markdown",
   "metadata": {},
   "source": [
    "##  参考文献及延伸阅读 "
   ]
  },
  {
   "cell_type": "markdown",
   "metadata": {},
   "source": [
    "### 参考资料："
   ]
  },
  {
   "cell_type": "markdown",
   "metadata": {},
   "source": [
    "1.哈林顿，李锐. 机器学习实战 : Machine learning in action[M]. 人民邮电出版社, 2013.  \n",
    "2.周志华. 机器学习:Machine learning[M]. 清华大学出版社, 2016."
   ]
  },
  {
   "cell_type": "markdown",
   "metadata": {},
   "source": [
    "### 延伸阅读："
   ]
  },
  {
   "cell_type": "markdown",
   "metadata": {},
   "source": [
    "1.李航. 统计学习方法[M]. 清华大学出版社, 2012."
   ]
  }
 ],
 "metadata": {
  "kernelspec": {
   "display_name": "Python 3",
   "language": "python",
   "name": "python3"
  },
  "language_info": {
   "codemirror_mode": {
    "name": "ipython",
    "version": 3
   },
   "file_extension": ".py",
   "mimetype": "text/x-python",
   "name": "python",
   "nbconvert_exporter": "python",
   "pygments_lexer": "ipython3",
   "version": "3.7.0"
  }
 },
 "nbformat": 4,
 "nbformat_minor": 1
}
